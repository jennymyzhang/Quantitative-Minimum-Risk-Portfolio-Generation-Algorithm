{
 "cells": [
  {
   "cell_type": "markdown",
   "metadata": {},
   "source": [
    "## Stock Picker\n"
   ]
  },
  {
   "cell_type": "code",
   "execution_count": 1,
   "metadata": {
    "id": "GSMHp7l-ALv3"
   },
   "outputs": [],
   "source": [
    "from IPython.display import display, Math, Latex\n",
    "\n",
    "import pandas as pd\n",
    "import numpy as np\n",
    "import numpy_financial as npf\n",
    "import yfinance as yf\n",
    "import matplotlib.pyplot as plt\n",
    "from datetime import datetime\n",
    "from pathlib import Path"
   ]
  },
  {
   "cell_type": "code",
   "execution_count": 9,
   "metadata": {
    "id": "4LrZ9cVsj9HB"
   },
   "outputs": [
    {
     "name": "stdin",
     "output_type": "stream",
     "text": [
      "Please pick one from the three: \"safe\", \"risky\" or \"wise\" stocks short\n"
     ]
    },
    {
     "name": "stdout",
     "output_type": "stream",
     "text": [
      "Input invalid please try again\n"
     ]
    },
    {
     "name": "stdin",
     "output_type": "stream",
     "text": [
      "Please pick one from the three: \"safe\", \"risky\" or \"wise\" stocks safe\n"
     ]
    },
    {
     "name": "stdout",
     "output_type": "stream",
     "text": [
      "safe\n"
     ]
    },
    {
     "name": "stdin",
     "output_type": "stream",
     "text": [
      "Please pick one from the two: \"short\" or \"long\" term short\n",
      "Please enter the amount of money to invest 788\n",
      "Please enter the number of stocks desired to pick 78\n",
      "Please upload your csv ticker file name ti\n"
     ]
    },
    {
     "name": "stdout",
     "output_type": "stream",
     "text": [
      "File not found please try again\n"
     ]
    },
    {
     "name": "stdin",
     "output_type": "stream",
     "text": [
      "Please upload your csv ticker file name ticker\n"
     ]
    },
    {
     "name": "stdout",
     "output_type": "stream",
     "text": [
      "File not found please try again\n"
     ]
    },
    {
     "name": "stdin",
     "output_type": "stream",
     "text": [
      "Please upload your csv ticker file name Tickers.csv\n"
     ]
    }
   ],
   "source": [
    "# Reads input regarding file name\n",
    "def safe_risky_wise ():\n",
    "    standard = input('Please pick one from the three: \"safe\", \"risky\" or \"wise\" stocks')\n",
    "    if (standard != 'safe') & (standard != 'risky') & (standard != 'wise'):\n",
    "        print (\"Input invalid please try again\")\n",
    "        return safe_risky_wise ()\n",
    "    else:\n",
    "        return standard\n",
    "    \n",
    "def short_long ():\n",
    "    term = input('Please pick one from the two: \"short\" or \"long\" term')\n",
    "    if (term!='short') & (term!='long'):\n",
    "        print (\"Input invalid please try again\")\n",
    "        return short_long ()\n",
    "    else:\n",
    "        return term\n",
    "\n",
    "def pick_num ():\n",
    "    wish_to_pick = input('Please enter the number of stocks desired to pick')\n",
    "    if (not (wish_to_pick.isnumeric())) | int(wish_to_pick) <= 0:\n",
    "        print (\"Input invalid please try again\")\n",
    "        return pick_num()\n",
    "    else:\n",
    "        return wish_to_pick\n",
    "\n",
    "def money ():\n",
    "    money = input('Please enter the amount of money to invest')\n",
    "    if (not money.isnumeric()) | int(money) <= 0:\n",
    "        print (\"Input invalid please try again\")\n",
    "        return pick_num()\n",
    "    else:\n",
    "        return money\n",
    "    \n",
    "\n",
    "def pick_file ():\n",
    "    user_input = input(\"Please upload your csv ticker file name\")\n",
    "    file_name = Path(user_input)\n",
    "    if file_name.exists():\n",
    "        return user_input\n",
    "    else:\n",
    "        print(\"File not found please try again\")\n",
    "        return pick_file()\n",
    "\n",
    "\n",
    "volatility = safe_risky_wise()\n",
    "print(volatility)\n",
    "short_long = short_long()\n",
    "money = money()\n",
    "wish_to_pick = pick_num()\n",
    "file = pick_file()\n",
    "\n",
    "# read CSV file\n",
    "ticker_df = pd.read_csv('Tickers.csv', header = None)\n",
    "ticker_df.columns = ['Tickers']\n",
    "unfiltered_ticker_lst = list(ticker_df['Tickers'])\n",
    "\n",
    "# create lists \n",
    "ticker_list = []\n",
    "ticker_dict ={}\n",
    "ticker_history = {}\n",
    "ticker_info = {}\n",
    "\n",
    "# timeframe\n",
    "start_date = '2020-01-01'\n",
    "purchase_date = datetime.date(datetime.now()) # day of purchase.\n",
    "\n",
    "# extract ticker info and ticker history\n",
    "for name in unfiltered_ticker_lst:\n",
    "    ticker_info[name] = yf.Ticker(name).info\n",
    "    if ticker_info[name].get('regularMarketPrice') == None:\n",
    "        continue\n",
    "    else:\n",
    "        ticker_history[name] = yf.Ticker(name).history (start = start_date, end = purchase_date, interval = '1d')\n",
    "    \n",
    "# filter ticker list so that it only contains real tickers in USD\n",
    "# look for actively traded stocks.\n",
    "for i in unfiltered_ticker_lst:\n",
    "    info = ticker_info[i]\n",
    "    if info.get('regularMarketPrice') == None:\n",
    "        continue\n",
    "    if info.get('currency')!= 'USD':\n",
    "        continue\n",
    "    if info.get ('market') != ('us_market'):\n",
    "        continue\n",
    "    history = ticker_history[name]\n",
    "    if history.Volume.mean() < 10000:\n",
    "        continue\n",
    "    else:\n",
    "        ticker_list.append(i)\n",
    "        ticker_dict[i] = info\n",
    "        \n",
    "# remove the duplicated tickers\n",
    "ticker_list = list(dict.fromkeys(ticker_list))"
   ]
  },
  {
   "cell_type": "code",
   "execution_count": 10,
   "metadata": {
    "id": "N2q1C_2DDBW7"
   },
   "outputs": [],
   "source": [
    "# calculate market capitalization\n",
    "# getting number of shares outstanding for each valid ticker\n",
    "share_list =[]\n",
    "for name in ticker_list:\n",
    "    share_list.append(ticker_info[name].get('sharesOutstanding'))\n",
    "\n",
    "# create dataframe for market capitalisation\n",
    "df_market_cap = pd.DataFrame({'company' :ticker_list})\n",
    "df_market_cap['outstanding_shares'] = share_list\n",
    "df_market_cap['closing'] = 0\n",
    "\n",
    "# function that returns the most recent available closing price (closest to end-date)\n",
    "def find_closing (df_close, i):\n",
    "    closing = df_close.Close.iloc[i]\n",
    "    if pd.isna(closing) == True:\n",
    "        return find_closing (df_close, i-1)\n",
    "    else:\n",
    "        return closing\n",
    "\n",
    "# read in all the tickers and extract the outstanding shares and closing prices\n",
    "i=0\n",
    "pd.options.mode.chained_assignment = None\n",
    "for ticker in ticker_list:\n",
    "    df_market_cap.closing.iloc[i] = find_closing(ticker_history[ticker], -3);\n",
    "    i+=1;\n",
    "\n",
    "# calculate the market capitalisation\n",
    "df_market_cap['Market_Cap'] = df_market_cap.closing* df_market_cap.outstanding_shares\n",
    "\n",
    "# rank the stocks based on their market cap\n",
    "# higher market cap would have higher rank (higher number)\n",
    "df_market_cap['Rank'] = df_market_cap.Market_Cap.rank(method='max')\n",
    "\n",
    "# NEW CODE \n",
    "df_market_cap['Rank'] = df_market_cap['Rank'].fillna(df_market_cap['Rank'].mean())\n",
    "\n",
    "market_cap_dict = dict(zip (ticker_list, df_market_cap['Rank'].to_list()))"
   ]
  },
  {
   "cell_type": "code",
   "execution_count": 11,
   "metadata": {
    "id": "hOCoHIGaghVq"
   },
   "outputs": [
    {
     "data": {
      "text/html": [
       "<div>\n",
       "<style scoped>\n",
       "    .dataframe tbody tr th:only-of-type {\n",
       "        vertical-align: middle;\n",
       "    }\n",
       "\n",
       "    .dataframe tbody tr th {\n",
       "        vertical-align: top;\n",
       "    }\n",
       "\n",
       "    .dataframe thead th {\n",
       "        text-align: right;\n",
       "    }\n",
       "</style>\n",
       "<table border=\"1\" class=\"dataframe\">\n",
       "  <thead>\n",
       "    <tr style=\"text-align: right;\">\n",
       "      <th></th>\n",
       "      <th>company</th>\n",
       "      <th>outstanding_shares</th>\n",
       "      <th>closing</th>\n",
       "      <th>Market_Cap</th>\n",
       "      <th>Rank</th>\n",
       "    </tr>\n",
       "  </thead>\n",
       "  <tbody>\n",
       "    <tr>\n",
       "      <th>0</th>\n",
       "      <td>AAPL</td>\n",
       "      <td>16334399488</td>\n",
       "      <td>175.529999</td>\n",
       "      <td>2.867177e+12</td>\n",
       "      <td>28.0</td>\n",
       "    </tr>\n",
       "    <tr>\n",
       "      <th>1</th>\n",
       "      <td>ABBV</td>\n",
       "      <td>1767879936</td>\n",
       "      <td>135.879990</td>\n",
       "      <td>2.402195e+11</td>\n",
       "      <td>21.0</td>\n",
       "    </tr>\n",
       "    <tr>\n",
       "      <th>2</th>\n",
       "      <td>LOW</td>\n",
       "      <td>673747008</td>\n",
       "      <td>250.720001</td>\n",
       "      <td>1.689219e+11</td>\n",
       "      <td>15.0</td>\n",
       "    </tr>\n",
       "    <tr>\n",
       "      <th>3</th>\n",
       "      <td>HOOD</td>\n",
       "      <td>835675008</td>\n",
       "      <td>16.250000</td>\n",
       "      <td>1.357972e+10</td>\n",
       "      <td>3.0</td>\n",
       "    </tr>\n",
       "    <tr>\n",
       "      <th>4</th>\n",
       "      <td>AMZN</td>\n",
       "      <td>507148000</td>\n",
       "      <td>3304.139893</td>\n",
       "      <td>1.675688e+12</td>\n",
       "      <td>27.0</td>\n",
       "    </tr>\n",
       "    <tr>\n",
       "      <th>5</th>\n",
       "      <td>AXP</td>\n",
       "      <td>774556032</td>\n",
       "      <td>174.470001</td>\n",
       "      <td>1.351368e+11</td>\n",
       "      <td>13.0</td>\n",
       "    </tr>\n",
       "    <tr>\n",
       "      <th>6</th>\n",
       "      <td>BAC</td>\n",
       "      <td>8184079872</td>\n",
       "      <td>48.860001</td>\n",
       "      <td>3.998741e+11</td>\n",
       "      <td>24.0</td>\n",
       "    </tr>\n",
       "    <tr>\n",
       "      <th>7</th>\n",
       "      <td>BMBL</td>\n",
       "      <td>119799000</td>\n",
       "      <td>32.689999</td>\n",
       "      <td>3.916229e+09</td>\n",
       "      <td>2.0</td>\n",
       "    </tr>\n",
       "    <tr>\n",
       "      <th>8</th>\n",
       "      <td>BK</td>\n",
       "      <td>825820992</td>\n",
       "      <td>63.549999</td>\n",
       "      <td>5.248092e+10</td>\n",
       "      <td>6.0</td>\n",
       "    </tr>\n",
       "    <tr>\n",
       "      <th>9</th>\n",
       "      <td>SQ</td>\n",
       "      <td>399175008</td>\n",
       "      <td>145.470001</td>\n",
       "      <td>5.806799e+10</td>\n",
       "      <td>8.0</td>\n",
       "    </tr>\n",
       "    <tr>\n",
       "      <th>10</th>\n",
       "      <td>VZ</td>\n",
       "      <td>4197760000</td>\n",
       "      <td>53.450001</td>\n",
       "      <td>2.243703e+11</td>\n",
       "      <td>17.0</td>\n",
       "    </tr>\n",
       "    <tr>\n",
       "      <th>11</th>\n",
       "      <td>CMCSA</td>\n",
       "      <td>4559479808</td>\n",
       "      <td>50.950001</td>\n",
       "      <td>2.323055e+11</td>\n",
       "      <td>18.0</td>\n",
       "    </tr>\n",
       "    <tr>\n",
       "      <th>12</th>\n",
       "      <td>SHOP</td>\n",
       "      <td>113633000</td>\n",
       "      <td>1168.760010</td>\n",
       "      <td>1.328097e+11</td>\n",
       "      <td>12.0</td>\n",
       "    </tr>\n",
       "    <tr>\n",
       "      <th>13</th>\n",
       "      <td>COST</td>\n",
       "      <td>443432000</td>\n",
       "      <td>525.799988</td>\n",
       "      <td>2.331565e+11</td>\n",
       "      <td>19.0</td>\n",
       "    </tr>\n",
       "    <tr>\n",
       "      <th>14</th>\n",
       "      <td>CSCO</td>\n",
       "      <td>4217609984</td>\n",
       "      <td>62.119999</td>\n",
       "      <td>2.619979e+11</td>\n",
       "      <td>23.0</td>\n",
       "    </tr>\n",
       "    <tr>\n",
       "      <th>15</th>\n",
       "      <td>CVS</td>\n",
       "      <td>1320060032</td>\n",
       "      <td>105.779999</td>\n",
       "      <td>1.396359e+11</td>\n",
       "      <td>14.0</td>\n",
       "    </tr>\n",
       "    <tr>\n",
       "      <th>16</th>\n",
       "      <td>GM</td>\n",
       "      <td>1451859968</td>\n",
       "      <td>61.029999</td>\n",
       "      <td>8.860701e+10</td>\n",
       "      <td>10.0</td>\n",
       "    </tr>\n",
       "    <tr>\n",
       "      <th>17</th>\n",
       "      <td>GOOG</td>\n",
       "      <td>317737984</td>\n",
       "      <td>2832.959961</td>\n",
       "      <td>9.001390e+11</td>\n",
       "      <td>26.0</td>\n",
       "    </tr>\n",
       "    <tr>\n",
       "      <th>18</th>\n",
       "      <td>JPM</td>\n",
       "      <td>2955269888</td>\n",
       "      <td>168.440002</td>\n",
       "      <td>4.977857e+11</td>\n",
       "      <td>25.0</td>\n",
       "    </tr>\n",
       "    <tr>\n",
       "      <th>19</th>\n",
       "      <td>IBM</td>\n",
       "      <td>896320000</td>\n",
       "      <td>133.589996</td>\n",
       "      <td>1.197394e+11</td>\n",
       "      <td>11.0</td>\n",
       "    </tr>\n",
       "    <tr>\n",
       "      <th>20</th>\n",
       "      <td>ORCL</td>\n",
       "      <td>2670449920</td>\n",
       "      <td>88.309998</td>\n",
       "      <td>2.358274e+11</td>\n",
       "      <td>20.0</td>\n",
       "    </tr>\n",
       "    <tr>\n",
       "      <th>21</th>\n",
       "      <td>OXY</td>\n",
       "      <td>933980992</td>\n",
       "      <td>34.750000</td>\n",
       "      <td>3.245584e+10</td>\n",
       "      <td>4.0</td>\n",
       "    </tr>\n",
       "    <tr>\n",
       "      <th>22</th>\n",
       "      <td>DUOL</td>\n",
       "      <td>15796800</td>\n",
       "      <td>103.019997</td>\n",
       "      <td>1.627386e+09</td>\n",
       "      <td>1.0</td>\n",
       "    </tr>\n",
       "    <tr>\n",
       "      <th>23</th>\n",
       "      <td>PEP</td>\n",
       "      <td>1382649984</td>\n",
       "      <td>173.899994</td>\n",
       "      <td>2.404428e+11</td>\n",
       "      <td>22.0</td>\n",
       "    </tr>\n",
       "    <tr>\n",
       "      <th>24</th>\n",
       "      <td>SLB</td>\n",
       "      <td>1402630016</td>\n",
       "      <td>36.450001</td>\n",
       "      <td>5.112587e+10</td>\n",
       "      <td>5.0</td>\n",
       "    </tr>\n",
       "    <tr>\n",
       "      <th>25</th>\n",
       "      <td>SO</td>\n",
       "      <td>1059800000</td>\n",
       "      <td>67.779999</td>\n",
       "      <td>7.183324e+10</td>\n",
       "      <td>9.0</td>\n",
       "    </tr>\n",
       "    <tr>\n",
       "      <th>26</th>\n",
       "      <td>SPG</td>\n",
       "      <td>328611008</td>\n",
       "      <td>161.929993</td>\n",
       "      <td>5.321198e+10</td>\n",
       "      <td>7.0</td>\n",
       "    </tr>\n",
       "    <tr>\n",
       "      <th>27</th>\n",
       "      <td>PYPL</td>\n",
       "      <td>1174930048</td>\n",
       "      <td>187.199997</td>\n",
       "      <td>2.199469e+11</td>\n",
       "      <td>16.0</td>\n",
       "    </tr>\n",
       "  </tbody>\n",
       "</table>\n",
       "</div>"
      ],
      "text/plain": [
       "   company  outstanding_shares      closing    Market_Cap  Rank\n",
       "0     AAPL         16334399488   175.529999  2.867177e+12  28.0\n",
       "1     ABBV          1767879936   135.879990  2.402195e+11  21.0\n",
       "2      LOW           673747008   250.720001  1.689219e+11  15.0\n",
       "3     HOOD           835675008    16.250000  1.357972e+10   3.0\n",
       "4     AMZN           507148000  3304.139893  1.675688e+12  27.0\n",
       "5      AXP           774556032   174.470001  1.351368e+11  13.0\n",
       "6      BAC          8184079872    48.860001  3.998741e+11  24.0\n",
       "7     BMBL           119799000    32.689999  3.916229e+09   2.0\n",
       "8       BK           825820992    63.549999  5.248092e+10   6.0\n",
       "9       SQ           399175008   145.470001  5.806799e+10   8.0\n",
       "10      VZ          4197760000    53.450001  2.243703e+11  17.0\n",
       "11   CMCSA          4559479808    50.950001  2.323055e+11  18.0\n",
       "12    SHOP           113633000  1168.760010  1.328097e+11  12.0\n",
       "13    COST           443432000   525.799988  2.331565e+11  19.0\n",
       "14    CSCO          4217609984    62.119999  2.619979e+11  23.0\n",
       "15     CVS          1320060032   105.779999  1.396359e+11  14.0\n",
       "16      GM          1451859968    61.029999  8.860701e+10  10.0\n",
       "17    GOOG           317737984  2832.959961  9.001390e+11  26.0\n",
       "18     JPM          2955269888   168.440002  4.977857e+11  25.0\n",
       "19     IBM           896320000   133.589996  1.197394e+11  11.0\n",
       "20    ORCL          2670449920    88.309998  2.358274e+11  20.0\n",
       "21     OXY           933980992    34.750000  3.245584e+10   4.0\n",
       "22    DUOL            15796800   103.019997  1.627386e+09   1.0\n",
       "23     PEP          1382649984   173.899994  2.404428e+11  22.0\n",
       "24     SLB          1402630016    36.450001  5.112587e+10   5.0\n",
       "25      SO          1059800000    67.779999  7.183324e+10   9.0\n",
       "26     SPG           328611008   161.929993  5.321198e+10   7.0\n",
       "27    PYPL          1174930048   187.199997  2.199469e+11  16.0"
      ]
     },
     "execution_count": 11,
     "metadata": {},
     "output_type": "execute_result"
    }
   ],
   "source": [
    "df_market_cap"
   ]
  },
  {
   "cell_type": "markdown",
   "metadata": {
    "id": "i8GOE8cdgm-a"
   },
   "source": [
    "We know that market capitalisation shows the total market value of a company which is the total number of shares times its stock price. It has also been acknowledged that companies with large market capitalisation tend to have a larger size. They are more favourable among investors. Unlike small companies, companies with large market capitalisation tend to be more stable in terms of their stock prices since they have expanded so big that small market fluctuations would not result in huge stock price fluctuations. Their stock prices would likely grow steadily rather than experiencing dramatic ups and downs. Since our strategy is safe, we need to pick stocks that are stable, and companies with large market capitalisation would satisfy the strategy.\n",
    "\n",
    "We can see from the dataframe above that, companies have large market capitalisation would have a higher rank which means it would have a higher number of rank, which when we later calculate the score for market capitalisation, they would receive a higher score."
   ]
  },
  {
   "cell_type": "code",
   "execution_count": 12,
   "metadata": {
    "id": "NXi9YEAHesHn"
   },
   "outputs": [],
   "source": [
    "##Get the beta of the stock\n",
    "ticker_beta = {}\n",
    "for k in ticker_list:\n",
    "    if ticker_dict[k]['beta'] == None:\n",
    "        ticker_beta[k] = 1\n",
    "    else:\n",
    "        ticker_beta[k] = ticker_dict[k]['beta']"
   ]
  },
  {
   "cell_type": "code",
   "execution_count": 13,
   "metadata": {
    "id": "_IfyaHP7cBEa"
   },
   "outputs": [
    {
     "data": {
      "text/plain": [
       "{'AAPL': 1.202736,\n",
       " 'ABBV': 0.824125,\n",
       " 'LOW': 1.292448,\n",
       " 'HOOD': 1,\n",
       " 'AMZN': 1.095793,\n",
       " 'AXP': 1.243284,\n",
       " 'BAC': 1.49113,\n",
       " 'BMBL': 1,\n",
       " 'BK': 1.156614,\n",
       " 'SQ': 2.289406,\n",
       " 'VZ': 0.417638,\n",
       " 'CMCSA': 0.944247,\n",
       " 'SHOP': 1.399391,\n",
       " 'COST': 0.635073,\n",
       " 'CSCO': 0.941713,\n",
       " 'CVS': 0.841358,\n",
       " 'GM': 1.175874,\n",
       " 'GOOG': 1.058286,\n",
       " 'JPM': 1.115053,\n",
       " 'IBM': 1.129244,\n",
       " 'ORCL': 0.788646,\n",
       " 'OXY': 2.360364,\n",
       " 'DUOL': 1,\n",
       " 'PEP': 0.665484,\n",
       " 'SLB': 2.303091,\n",
       " 'SO': 0.505828,\n",
       " 'SPG': 1.520527,\n",
       " 'PYPL': 1.154586}"
      ]
     },
     "execution_count": 13,
     "metadata": {},
     "output_type": "execute_result"
    }
   ],
   "source": [
    "# show beta dict\n",
    "ticker_beta"
   ]
  },
  {
   "cell_type": "code",
   "execution_count": 14,
   "metadata": {
    "colab": {
     "base_uri": "https://localhost:8080/"
    },
    "id": "tdgoat1lcDxf",
    "outputId": "fd5886f7-7533-4791-f638-feee35357451"
   },
   "outputs": [
    {
     "data": {
      "text/plain": [
       "{'OXY': 1,\n",
       " 'SLB': 2,\n",
       " 'SQ': 3,\n",
       " 'SPG': 4,\n",
       " 'BAC': 5,\n",
       " 'SHOP': 6,\n",
       " 'LOW': 7,\n",
       " 'AXP': 8,\n",
       " 'AAPL': 9,\n",
       " 'GM': 10,\n",
       " 'BK': 11,\n",
       " 'PYPL': 12,\n",
       " 'IBM': 13,\n",
       " 'JPM': 14,\n",
       " 'AMZN': 15,\n",
       " 'GOOG': 16,\n",
       " 'HOOD': 17,\n",
       " 'BMBL': 18,\n",
       " 'DUOL': 19,\n",
       " 'CMCSA': 20,\n",
       " 'CSCO': 21,\n",
       " 'CVS': 22,\n",
       " 'ABBV': 23,\n",
       " 'ORCL': 24,\n",
       " 'PEP': 25,\n",
       " 'COST': 26,\n",
       " 'SO': 27,\n",
       " 'VZ': 28}"
      ]
     },
     "execution_count": 14,
     "metadata": {},
     "output_type": "execute_result"
    }
   ],
   "source": [
    "# rank the companies based on beta\n",
    "ticker_beta_rank = {key: rank for rank, key in enumerate(sorted(ticker_beta, key=ticker_beta.get, reverse=True), 1)}\n",
    "ticker_beta_rank"
   ]
  },
  {
   "cell_type": "markdown",
   "metadata": {
    "id": "kdLC8D1_cPZ7"
   },
   "source": [
    "The above dictionaries show beta for each company. \n",
    "Since beta is a measure of a stock's volatility in relation to the overall market.\n",
    "A stock that swings more than the market over time has a beta above 1.0. If a stock moves less than the market, the stock's beta is less than 1.0. \n",
    "Since our strategy is safe, we need stocks that are less risky and less volatile.\n",
    "High-beta stocks are supposed to be riskier but provide higher return potential; low-beta stocks pose less risk but also lower returns.\n",
    "In this case, we give the ones with lower beta a higher score(higher number) so that when calculating the score fot beta, the companies with lower beta would receive higher score since they are less volatile and safer "
   ]
  },
  {
   "cell_type": "code",
   "execution_count": 15,
   "metadata": {
    "colab": {
     "base_uri": "https://localhost:8080/"
    },
    "id": "uhRPsoeFaGWS",
    "outputId": "d53c7e31-aa25-498b-9e7a-022649d84fe5"
   },
   "outputs": [
    {
     "data": {
      "text/plain": [
       "[True,\n",
       " True,\n",
       " True,\n",
       " True,\n",
       " True,\n",
       " True,\n",
       " True,\n",
       " True,\n",
       " True,\n",
       " True,\n",
       " True,\n",
       " True,\n",
       " True,\n",
       " True,\n",
       " True,\n",
       " True,\n",
       " True,\n",
       " True,\n",
       " True,\n",
       " True,\n",
       " True,\n",
       " True,\n",
       " True,\n",
       " True,\n",
       " True]"
      ]
     },
     "execution_count": 15,
     "metadata": {},
     "output_type": "execute_result"
    }
   ],
   "source": [
    "# Here we compare a Charles Schwab's SP500 Index Fund beta (representing a portion of the aggregate stock market)\n",
    "# with each ticker in our \n",
    "index_beta = yf.Ticker('SWPPX').info['beta3Year']\n",
    "difference_between_market_and_tickers = []\n",
    "for i in list(ticker_beta.values()):\n",
    "    difference_between_market_and_tickers.append(i - index_beta)\n",
    "is_beta_less_than_1 = []\n",
    "for i in difference_between_market_and_tickers:\n",
    "    if abs(i) < 1:\n",
    "        is_beta_less_than_1.append(True)\n",
    "    else: \n",
    "        False\n",
    "is_beta_less_than_1 "
   ]
  },
  {
   "cell_type": "markdown",
   "metadata": {
    "id": "dyMBZpg5c54E"
   },
   "source": [
    "Since a large portion/all of these differences are in fact less than 1, we can conclude\n",
    "that a safe portfolio has been constructed that is somewhat similar to market volatility especially when we rank and filter our picked tickers."
   ]
  },
  {
   "cell_type": "code",
   "execution_count": 16,
   "metadata": {
    "id": "745a64fUaENv"
   },
   "outputs": [
    {
     "name": "stdout",
     "output_type": "stream",
     "text": [
      "100.0% of ticker betas are within 1 away from the market beta demonstrating that ticker volality is comparable to that of the market and thus, a safe portfolio will be formed\n"
     ]
    }
   ],
   "source": [
    "print(str((is_beta_less_than_1.count(True))/len(is_beta_less_than_1) * 100) + '% of ticker betas are within 1 away from the market beta demonstrating that ticker volality is comparable to that of the market and thus, a safe portfolio will be formed')"
   ]
  },
  {
   "cell_type": "code",
   "execution_count": 17,
   "metadata": {
    "id": "rDRfExBsBcjO"
   },
   "outputs": [],
   "source": [
    "##Get the return and standard deviation of each stock to calculate risk adjusted daily returns \n",
    "tickers_close = []\n",
    "tickers_close_dict = {}\n",
    "for i in ticker_list:\n",
    "    tickers_close.append(ticker_history[i]['Close'])\n",
    "    close = ticker_history[i]['Close']\n",
    "    tickers_close_dict[i] = close\n",
    "ticker_keys = tickers_close_dict.keys()\n",
    "\n",
    "listof_rate_of_return = []\n",
    "listof_std = []\n",
    "for i in range(len(tickers_close)):\n",
    "    close_df = pd.DataFrame(tickers_close[i])\n",
    "    pct_change = 100*close_df.pct_change()\n",
    "    pct_change.columns = ['Rate of Return (%)']\n",
    "    avg_pct_change = pct_change['Rate of Return (%)'].describe()['mean']\n",
    "    listof_rate_of_return.append(avg_pct_change)\n",
    "    std = pct_change.std()\n",
    "    listof_std.append(std)\n",
    "listof_std_float = []\n",
    "for i in range(len(listof_std)):\n",
    "    listof_std_float.append(float(listof_std[i]))\n",
    "rate_of_return_dict_1d = dict(zip(ticker_keys, listof_rate_of_return))\n",
    "std_dict_1d = dict(zip(ticker_keys, listof_std_float))\n",
    "\n",
    " # calculate the return over standard deviation for one day, return a dict\n",
    "return_over_std_1d_dict={}\n",
    "for ticker in ticker_list:\n",
    "    ratio = (rate_of_return_dict_1d[ticker]/std_dict_1d[ticker])\n",
    "    return_over_std_1d_dict[ticker] = ratio\n",
    "return_over_std_rank_1d = {key: rank for rank, key in enumerate(sorted(return_over_std_1d_dict, key=return_over_std_1d_dict.get, reverse=False), 1)}"
   ]
  },
  {
   "cell_type": "code",
   "execution_count": null,
   "metadata": {
    "id": "HmPS9m7sf2ly"
   },
   "outputs": [],
   "source": []
  },
  {
   "cell_type": "markdown",
   "metadata": {
    "id": "lYiJhc14f3dF"
   },
   "source": [
    "The above dictionary shows the standard deviation of each company. Standard deviation mainly represents the riskiness of each ticker since it calculates how spread out the data is. In this case, since we are aiming to choose the safest stocks. Therefore, the stocks that have less outlier stock prices would have a more steady stock price. Lower standard deviation indicates the stocks is less risky and has less fluctuations in stock prices."
   ]
  },
  {
   "cell_type": "code",
   "execution_count": null,
   "metadata": {
    "id": "VK-UEeO0gNlx"
   },
   "outputs": [],
   "source": []
  },
  {
   "cell_type": "code",
   "execution_count": 18,
   "metadata": {
    "id": "GIqsK3dhgNxH"
   },
   "outputs": [
    {
     "data": {
      "text/plain": [
       "{'HOOD': 1,\n",
       " 'BMBL': 2,\n",
       " 'DUOL': 3,\n",
       " 'VZ': 4,\n",
       " 'SLB': 5,\n",
       " 'IBM': 6,\n",
       " 'OXY': 7,\n",
       " 'JPM': 8,\n",
       " 'SO': 9,\n",
       " 'CMCSA': 10,\n",
       " 'SPG': 11,\n",
       " 'BK': 12,\n",
       " 'AXP': 13,\n",
       " 'BAC': 14,\n",
       " 'CSCO': 15,\n",
       " 'PEP': 16,\n",
       " 'GM': 17,\n",
       " 'PYPL': 18,\n",
       " 'CVS': 19,\n",
       " 'SQ': 20,\n",
       " 'ORCL': 21,\n",
       " 'AMZN': 22,\n",
       " 'ABBV': 23,\n",
       " 'LOW': 24,\n",
       " 'SHOP': 25,\n",
       " 'GOOG': 26,\n",
       " 'COST': 27,\n",
       " 'AAPL': 28}"
      ]
     },
     "execution_count": 18,
     "metadata": {},
     "output_type": "execute_result"
    }
   ],
   "source": [
    "return_over_std_rank_1d"
   ]
  },
  {
   "cell_type": "markdown",
   "metadata": {
    "id": "wg7budMZgT-B"
   },
   "source": [
    "The two dictionaries above indicate the average rate of return over standard deviation (sharp ratio). Sharp ratio indicates the average return per unit of risk. Investors should invest in the stocks that have higher sharp ratio since it is the safest. The companies that have higher sharp ratio would return the same amount of money with less risk involved which indicates that they are safer. Since our strategy is safe, it is better for us to choose stocks that have higher sharp ratio. We also ranked the companies based on their ratios. The companies with larger ratio would receive larger score which would lead to a larger score when calculating the score for each company."
   ]
  },
  {
   "cell_type": "code",
   "execution_count": 19,
   "metadata": {
    "id": "CYoF627EABEn"
   },
   "outputs": [],
   "source": [
    "##Get the return and standard deviation of each stock to calculate risk adjusted monthly returns \n",
    "tickers_close_1mo = []\n",
    "tickers_close_dict_1mo = {}\n",
    "for i in ticker_list:\n",
    "    tickers_close_1mo.append(yf.Ticker(i).history(start=\"2019-01-01\", end=\"2021-11-01\", interval='1mo')['Close'])\n",
    "    close_1mo = yf.Ticker(i).history(start=\"2019-01-01\", end=\"2021-11-01\", interval='1mo')['Close']\n",
    "    tickers_close_dict_1mo[i] = close_1mo\n",
    "ticker_keys = tickers_close_dict_1mo.keys()\n",
    "listof_rate_of_return_1mo = []\n",
    "listof_std_1mo = []\n",
    "for i in range(len(tickers_close_1mo)):\n",
    "    close_df_1mo = pd.DataFrame(tickers_close_1mo[i])\n",
    "    pct_change_1mo = 100*close_df_1mo.pct_change()\n",
    "    pct_change_1mo.columns = ['Rate of Return (%)']\n",
    "    avg_pct_change_1mo = pct_change_1mo['Rate of Return (%)'].describe()['mean']\n",
    "    listof_rate_of_return_1mo.append(avg_pct_change_1mo)\n",
    "    std_1mo = pct_change_1mo.std()\n",
    "    listof_std_1mo.append(std_1mo)\n",
    "listof_std_1mo_float = []\n",
    "for i in range(len(listof_std_1mo)):\n",
    "    listof_std_1mo_float.append(float(listof_std_1mo[i]))\n",
    "rate_of_return_dict_1mo = dict(zip(ticker_keys, listof_rate_of_return_1mo))\n",
    "std_dict_1mo = dict(zip(ticker_keys, listof_std_1mo_float))\n",
    "\n",
    "# calculate return over standard deviation for one month, return a dict\n",
    "return_over_std_1mo_dict={}\n",
    "for ticker in ticker_list:\n",
    "    ratio = (rate_of_return_dict_1mo[ticker]/std_dict_1mo[ticker])\n",
    "    return_over_std_1mo_dict[ticker] = ratio\n",
    "\n",
    "# rank the tickers by their expected one month rate of return/ std and return a dict\n",
    "# Note that tickers with higher return/std would receive higher rank\n",
    "return_over_std_rank_1mo = {key: rank for rank, key in enumerate(sorted(return_over_std_1mo_dict, key=return_over_std_1mo_dict.get, reverse=False), 1)}"
   ]
  },
  {
   "cell_type": "code",
   "execution_count": 20,
   "metadata": {
    "id": "S0jkdJLKkzvz"
   },
   "outputs": [
    {
     "data": {
      "text/plain": [
       "{'AAPL': 0.4826713762377341,\n",
       " 'ABBV': 0.22634625820451346,\n",
       " 'LOW': 0.3414500848283831,\n",
       " 'HOOD': -1.5285197020144545,\n",
       " 'AMZN': 0.31454086217240007,\n",
       " 'AXP': 0.18332153901498718,\n",
       " 'BAC': 0.19799315193584285,\n",
       " 'BMBL': -0.33246776565956004,\n",
       " 'BK': 0.0833329847444518,\n",
       " 'SQ': 0.28106125317552794,\n",
       " 'VZ': 0.044691724471135515,\n",
       " 'CMCSA': 0.18930473242079648,\n",
       " 'SHOP': 0.56165238647176,\n",
       " 'COST': 0.5629467018449709,\n",
       " 'CSCO': 0.12078456568637284,\n",
       " 'CVS': 0.19300882440367756,\n",
       " 'GM': 0.17016936411172306,\n",
       " 'GOOG': 0.42325591200482815,\n",
       " 'JPM': 0.22190647298980212,\n",
       " 'IBM': 0.048228003438864374,\n",
       " 'ORCL': 0.33507483150768475,\n",
       " 'OXY': 0.03362858071770054,\n",
       " 'DUOL': -0.03804747290147993,\n",
       " 'PEP': 0.27039115694758564,\n",
       " 'SLB': 0.0230692909760266,\n",
       " 'SO': 0.2002884252888251,\n",
       " 'SPG': 0.07656492824548679,\n",
       " 'PYPL': 0.2607711948443393}"
      ]
     },
     "execution_count": 20,
     "metadata": {},
     "output_type": "execute_result"
    }
   ],
   "source": [
    "return_over_std_1mo_dict"
   ]
  },
  {
   "cell_type": "code",
   "execution_count": 21,
   "metadata": {
    "id": "GRC1S_0kk2UA"
   },
   "outputs": [
    {
     "data": {
      "text/plain": [
       "{'HOOD': 1,\n",
       " 'BMBL': 2,\n",
       " 'DUOL': 3,\n",
       " 'SLB': 4,\n",
       " 'OXY': 5,\n",
       " 'VZ': 6,\n",
       " 'IBM': 7,\n",
       " 'SPG': 8,\n",
       " 'BK': 9,\n",
       " 'CSCO': 10,\n",
       " 'GM': 11,\n",
       " 'AXP': 12,\n",
       " 'CMCSA': 13,\n",
       " 'CVS': 14,\n",
       " 'BAC': 15,\n",
       " 'SO': 16,\n",
       " 'JPM': 17,\n",
       " 'ABBV': 18,\n",
       " 'PYPL': 19,\n",
       " 'PEP': 20,\n",
       " 'SQ': 21,\n",
       " 'AMZN': 22,\n",
       " 'ORCL': 23,\n",
       " 'LOW': 24,\n",
       " 'GOOG': 25,\n",
       " 'AAPL': 26,\n",
       " 'SHOP': 27,\n",
       " 'COST': 28}"
      ]
     },
     "execution_count": 21,
     "metadata": {},
     "output_type": "execute_result"
    }
   ],
   "source": [
    "return_over_std_rank_1mo"
   ]
  },
  {
   "cell_type": "markdown",
   "metadata": {
    "id": "iycpdnxJk_fM"
   },
   "source": [
    "We also have calculated the average return over standard deviation (sharp ratio) for each ticker for monthly period. Since daily stock prices could have lots of fluctuations, monthly period data gives a more general and overall trend. Hence it is better to combine these two when analyzing the overall riskiness of the companies.\n",
    "\n",
    "The above dictionary represents the the scoring for sharp ratio for monthly data. It uses the same method as the daily data except it has a different time interval. We can see that the scoring of each company for daily and monthly data are not the same but are similar. Investors should invest in stocks that have large sharp ratio since larger sharp ratio indicates that same amount of money can be achieved with smaller risk involved. since our strategy is safe and less risky we need companies that have higher sharp ratio so that when when stocks are bought, they tend to have less fluctuations.\n",
    "\n",
    "Again, the companies with large sharp ratio would receive a higher score which would also lead to a higher score when we are picking the stocks."
   ]
  },
  {
   "cell_type": "code",
   "execution_count": null,
   "metadata": {
    "id": "5xO0Xarz-xZV"
   },
   "outputs": [],
   "source": [
    "##The formula for calculating the score of the stock. This score will then be ranked to ensure the highest scoring stocks are chosen.\n",
    "## 20% mkt cap  + 30% rate of return/std (1d) + 20% beta + 30% rate of return/std (1m) "
   ]
  },
  {
   "cell_type": "markdown",
   "metadata": {
    "id": "_MjNwRjWmj9m"
   },
   "source": [
    "We gave each factor that we come up with a percentage. The percentage represents how much this factor would weigh when calculating the final score for each company. We gave 30% to return/std (1d) and 30% to return/std (1m) because we think that we can directly see the riskiness through these data, and they are more representative of the overall riskiness of each company so we give each of them a larger proportion. For beta and capitalisation, we each gave them 20% because we believed that they are less representative compared with the two ratios.\n",
    "\n",
    "With these four factors being calculated and being assigned proportion, we believe that they will generate a reliable score for each company in terms of their riskiness. The safer the company is, the higher the score is."
   ]
  },
  {
   "cell_type": "code",
   "execution_count": 22,
   "metadata": {
    "id": "eyx7nI5_Bygm"
   },
   "outputs": [],
   "source": [
    "#creating a dictionary with each stock ranking \n",
    "stock_score_list = {}\n",
    "stock_score_short = {}\n",
    "stock_score_long = {}\n",
    "stock_wise_long = {}\n",
    "\n",
    "for ticker in ticker_list:\n",
    "    # wise\n",
    "    score = 0.2 * (ticker_beta_rank[ticker]) + 0.6 * (return_over_std_rank_1d[ticker])+0.2*market_cap_dict[ticker]\n",
    "    wise_long = 0.2 * (ticker_beta_rank[ticker]) + 0.6 *(return_over_std_rank_1mo[ticker])+0.2*market_cap_dict[ticker]\n",
    "    #safe\n",
    "    score_short = 0.2 * (ticker_beta_rank[ticker]) + 0.35 * (std_dict_1d[ticker]) + 0.35 * (std_dict_1d[ticker]) + 0.1 * (rate_of_return_dict_1d[ticker])\n",
    "    score_long = 0.2 * (ticker_beta_rank[ticker]) + 0.35 * (std_dict_1mo[ticker]) + 0.35 * (std_dict_1mo[ticker]) + 0.1 * (rate_of_return_dict_1d[ticker])\n",
    "    \n",
    "    stock_score_list[ticker] = {ticker:score}\n",
    "    stock_wise_long[ticker] = wise_long\n",
    "    stock_score_short[ticker] = score_short\n",
    "    stock_score_long[ticker] = score_long\n",
    "\n",
    "stock_wise_long = dict(sorted(stock_wise_long.items(), key=lambda item: item[1]))\n",
    "stock_score_long = dict(sorted(stock_score_long.items(), key=lambda item: item[1]))\n",
    "stock_score_short = dict(sorted(stock_score_short.items(), key=lambda item: item[1]))\n"
   ]
  },
  {
   "cell_type": "code",
   "execution_count": null,
   "metadata": {
    "id": "PyAGdg8zALv8"
   },
   "outputs": [],
   "source": [
    "#sorting the stocks into their respective sector, so highest from each sector is chosen to minimize concentratio.\n",
    "ticker_sectors = {}\n",
    "for ticker in ticker_list:\n",
    "    # NEW CODE\n",
    "    if 'sector' not in ticker_dict[ticker].keys():\n",
    "        if 'other' not in ticker_sectors:\n",
    "            ticker_sectors['other'] = stock_score_list[ticker]\n",
    "        else:\n",
    "             ticker_sectors['other'].update(stock_score_list[ticker])\n",
    "    \n",
    "    else:\n",
    "        sector = ticker_dict[ticker]['sector']\n",
    "        if sector not in ticker_sectors:\n",
    "            ticker_sectors[sector] = stock_score_list[ticker]\n",
    "        else:\n",
    "            ticker_sectors[sector].update(stock_score_list[ticker])\n",
    "\n",
    "for sector in ticker_sectors:\n",
    "    ticker_sectors[sector] = sorted(ticker_sectors[sector].items(), key= lambda x: x[1], reverse=True)\n"
   ]
  },
  {
   "cell_type": "code",
   "execution_count": null,
   "metadata": {},
   "outputs": [],
   "source": [
    "ticker_sectors"
   ]
  },
  {
   "cell_type": "markdown",
   "metadata": {
    "id": "OoxcDqbfn3IK"
   },
   "source": [
    "The above dictionary shows the sorted company lists. Each sector would contain the companies from that sector (if a stock does not have sector we would put it into others). We believe that this is helpful since we want to pick stocks from different sectors/industry to diversify our portfolio. When something happens to one industry, it would not ruin the whole portfolio because of diversification. We would eliminate non-market risk by diversifing the stocks so that our target (safe) can be achieved. The stocks in each sector is sorted based on their final score with the stocks with higher score(safer) being placed at the top."
   ]
  },
  {
   "cell_type": "code",
   "execution_count": null,
   "metadata": {
    "id": "h1rCN3Wn7XER"
   },
   "outputs": [],
   "source": [
    "# decide the number of tickers to be picked, we always pick the maximum\n",
    "# since we are doing safe and we need diversification\n",
    "company_num = len(ticker_list)\n",
    "if wish_to_pick > company_num:\n",
    "    print(\"Exceeds the limit (number entered more than the provided file)\")\n",
    "else:\n",
    "    company_num = wish_to_pick\n",
    "\n",
    "# pick the tickers\n",
    "picked_ticker_list=[]\n",
    "\n",
    "\n",
    "# function that picks the tickers\n",
    "# Since the tickers that are safer are placed at the top for each industry, \n",
    "# always append the top one for each industry and repeat the step\n",
    "def pick_stock (num, ticker_sector, picked_ticker_list):\n",
    "    for sector in ticker_sector:\n",
    "        if (company_num == num):\n",
    "            return picked_ticker_list\n",
    "        elif (len(ticker_sector[sector]) == 0):\n",
    "            continue\n",
    "        else:\n",
    "            picked_ticker_list.append (list(ticker_sector[sector])[0])\n",
    "            ticker_sector[sector].pop(0)\n",
    "            num += 1\n",
    "            continue\n",
    "    if company_num > num:\n",
    "        return pick_stock (num, ticker_sector, picked_ticker_list)\n",
    "    if company_num == num:\n",
    "        return picked_ticker_list\n",
    "    return picked_ticker_list\n",
    "  \n",
    "# perform the function to filtered ticker list\n",
    "picked_ticker_list = dict(pick_stock(0, ticker_sectors, picked_ticker_list))\n",
    "picked_ticker_list"
   ]
  },
  {
   "cell_type": "code",
   "execution_count": null,
   "metadata": {},
   "outputs": [],
   "source": [
    "wish_to_pick"
   ]
  },
  {
   "cell_type": "markdown",
   "metadata": {
    "id": "BqoKy6Sho8zP"
   },
   "source": [
    "From the above code block, it can be noticed that we choose the maximum number of stocks. If valid stocks are bigger than 20 we would pick the maximum limit of 20. If valid stocks are less than 20, we would pick all of them. The reason behind this is also diversification. Whether it is diversification within the same industry or in different industries, as long as the number of our companies are large, we could say that it is considered relatively less risky. Diversification could lower the non-market risk ensuring that if one thing happens to one particular company, the total portfolio would not be ruined. Hence we would pick the maximum stocks since we want to be safe."
   ]
  },
  {
   "cell_type": "markdown",
   "metadata": {
    "id": "0DbHo2QFp0L6"
   },
   "source": [
    "The method that we pick stocks is that we pick top (safest) stocks from each sector. We have already ranked the stocks in each sector based on their final score, the ones with larger score would be placed on top, and the ones with lower score would be placed at the bottom. We would start picking the first stock from each sector to minimize the risk, and repeat the step until the maximum stock number is achieved. In this way, we can make sure we pick only the safest stocks from each sector ignoring the more risky stocks that are placed at the bottom."
   ]
  },
  {
   "cell_type": "code",
   "execution_count": null,
   "metadata": {
    "colab": {
     "base_uri": "https://localhost:8080/",
     "height": 355
    },
    "id": "V2NSLZnMzDLC",
    "outputId": "131a67a2-2d73-4aec-b847-691e609a35b4"
   },
   "outputs": [],
   "source": [
    "# graph the closing prices for each company picked\n",
    "for ticker in picked_ticker_list:\n",
    "    plt.plot(ticker_history[ticker].index, ticker_history[ticker].Close, label=ticker)\n",
    "\n",
    "# labels\n",
    "plt.title('Picked Ticker Closing Prices from Jul 2021 to Nov 2021')\n",
    "plt.xlabel('Dates')\n",
    "plt.xticks(rotation=90)\n",
    "plt.ylabel('Closing Price (USD)')\n",
    "\n",
    "\n",
    "# Create legend\n",
    "plt.legend(loc='best')\n",
    "\n",
    "plt.show()"
   ]
  },
  {
   "cell_type": "markdown",
   "metadata": {
    "id": "RTWC8ScHzM63"
   },
   "source": [
    "From this graph, we can visualize the closing prices for the stocks we picked. We can see that they have been relatively steady and stable without any major ups and downs which indicates that they are relatively safe and less risky."
   ]
  },
  {
   "cell_type": "code",
   "execution_count": null,
   "metadata": {},
   "outputs": [],
   "source": [
    "if safe_risky_wise == 'safe':\n",
    "    if short_long == 'short':\n",
    "        picked_ticker_list = stock_score_short.keys[:wish_to_pick]\n",
    "    if short_long == 'long':\n",
    "        picked_ticker_list = stock_score_long.keys[:wish_to_pick]\n",
    "    else: \n",
    "        print('Input invalid please try again')\n",
    "if safe_risky_wise == 'risky':\n",
    "    if short_long == 'short':\n",
    "        picked_ticker_list = stock_score_short.keys[-wish_to_pick:]\n",
    "    if short_long =='long':\n",
    "        picked_ticker_list = stock_score_long.keys[-wish_to_pick:]\n",
    "    else:\n",
    "        print('Input invalid please try again')\n",
    "if safe_risky_wise == 'wise':\n",
    "    if short_long == 'long':\n",
    "        picked_ticker_list = stock_wise_long.keys[:wish_to_pick]\n",
    "    if short_long == 'short':\n",
    "        continue\n",
    "    else:\n",
    "        print('Input invalid please try again')\n",
    "else print('Input invalid please try again')"
   ]
  },
  {
   "cell_type": "code",
   "execution_count": null,
   "metadata": {
    "colab": {
     "base_uri": "https://localhost:8080/",
     "height": 616
    },
    "id": "Jnm_uazZnuVh",
    "outputId": "646765df-5aef-4c61-bc10-743e75051d7f"
   },
   "outputs": [],
   "source": [
    "total_score = 0\n",
    "\n",
    "for stock in picked_ticker_list.keys():\n",
    "    total_score += stock_score_list[stock][stock]\n",
    "\n",
    "##weight proportional\n",
    "for stks in picked_ticker_list.keys():\n",
    "    stck_weights[stks] = (stock_score_list[stks][stks]/total_score)\n",
    "\n",
    "# extract the closing price on Nov 26 for each ticker picked\n",
    "ticker_closing_list = []\n",
    "for ticker in picked_ticker_list.keys():\n",
    "    ticker_closing_list.append(float(yf.Ticker(ticker).history(start= purchase_date, interval='1d')['Close'].to_list()[0]))\n",
    "\n",
    "##column names and values for weights and tickers\n",
    "weight_list = list(stck_weights.values())\n",
    "pcked_ticker_list = list(picked_ticker_list.keys())"
   ]
  },
  {
   "cell_type": "markdown",
   "metadata": {
    "id": "0rdT_0qOql3O"
   },
   "source": [
    "After we pick our stocks, it is important to make sure it meets the weighting criteria. We first assign the minimum weight to each of them and would assign additional weights to them proportionally based one their final score (final score/ total score). In this way, we ensure that not only would they meet the weighting limit, but the stocks with larger final score (safer) would receive higher weight. We think it is reasonable."
   ]
  },
  {
   "cell_type": "code",
   "execution_count": null,
   "metadata": {
    "colab": {
     "base_uri": "https://localhost:8080/"
    },
    "id": "qmXZh-OzFGY1",
    "outputId": "bdc68a05-4b48-413f-c6c7-23897c6c97d3"
   },
   "outputs": [],
   "source": [
    "# create final portfolio dataframe\n",
    "if type(money)!='int':\n",
    "    print ('Input invalid please try again')\n",
    "\n",
    "FinalPortfolio = pd.DataFrame({'Ticker': pcked_ticker_list,  'Weight' : weight_list})\n",
    "FinalPortfolio['Shares'] = (FinalPortfolio.Weight * 100000)/ FinalPortfolio.Price\n",
    "FinalPortfolio['Value'] = FinalPortfolio.Weight * 100000\n",
    "FinalPortfolio = FinalPortfolio.drop(columns='Weight')\n",
    "FinalPortfolio['Weight'] = weight_list \n",
    "FinalPortfolio['Weight'] = FinalPortfolio['Weight'] * 100 \n",
    "\n",
    "# make index start from 1\n",
    "FinalPortfolio.index += 1\n",
    "\n",
    "# values add up to 100000, and weights add up to 100\n",
    "print (\"The total value adds up to\", round(FinalPortfolio['Value'].sum(), 3), \"and the total weight adds up to\", FinalPortfolio['Weight'].sum())"
   ]
  },
  {
   "cell_type": "code",
   "execution_count": null,
   "metadata": {
    "colab": {
     "base_uri": "https://localhost:8080/",
     "height": 676
    },
    "id": "laj9rH4nFPPw",
    "outputId": "d9b5c580-5a21-4b29-cd83-32e10face683"
   },
   "outputs": [],
   "source": [
    "FinalPortfolio"
   ]
  },
  {
   "cell_type": "code",
   "execution_count": null,
   "metadata": {
    "id": "e3h5smSzQXQT"
   },
   "outputs": [],
   "source": [
    "# Extracting Ticker and Shares and form new dataframe\n",
    "Stocks = FinalPortfolio [['Ticker', 'Shares']]\n",
    "Stocks"
   ]
  },
  {
   "cell_type": "code",
   "execution_count": null,
   "metadata": {
    "id": "dYpBX6X3Tyyz"
   },
   "outputs": [],
   "source": [
    "# make a csv file out of Stocks dataframe\n",
    "Stocks.to_csv('Stocks_Group_19.csv')"
   ]
  },
  {
   "cell_type": "markdown",
   "metadata": {},
   "source": [
    "<span style=\"color: red;\">Our file mainly experiences two yahoo finance related problems. The first one is that some tickers may not have the data for outstanding shares needed for calculating market capitalisation as well as the final score, and the second one is that some tickers might not have sectors in their ticker info. We fixed the first problem by assigning the average score(rank) to stocks that do not have data available for outstanding shares. We think it is reasonable since they would not be penalized too much on their final score because of their missing data. The score is calculated by taking the mean(average score) of the total scores for market capitalization that the tickers in ticker_list have, where ticker_list is the filtered tickered list, and every ticker in ticker_list would receive a score (from 1 to (len (ticker_list))) based on their market capitalisation. We think it is reasonable to give these stocks a fair score which is the mean score. The second problem is that some tickers may not have sectors. This problem arises when we sort the tickers based on their sectors. We solved this problem by giving them a sector of 'others'. Tickers that are in 'others' are the tickers that do not have a sector, and they would be treated fairly just like any other tickers when we diversify and pick the stocks. </span>\n"
   ]
  }
 ],
 "metadata": {
  "colab": {
   "collapsed_sections": [],
   "name": "Team_19_Assignment-2.ipynb",
   "provenance": []
  },
  "kernelspec": {
   "display_name": "Python 3",
   "language": "python",
   "name": "python3"
  },
  "language_info": {
   "codemirror_mode": {
    "name": "ipython",
    "version": 3
   },
   "file_extension": ".py",
   "mimetype": "text/x-python",
   "name": "python",
   "nbconvert_exporter": "python",
   "pygments_lexer": "ipython3",
   "version": "3.8.8"
  }
 },
 "nbformat": 4,
 "nbformat_minor": 4
}
